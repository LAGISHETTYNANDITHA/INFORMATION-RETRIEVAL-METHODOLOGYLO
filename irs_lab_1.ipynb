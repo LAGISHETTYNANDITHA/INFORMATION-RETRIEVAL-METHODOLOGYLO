{
  "nbformat": 4,
  "nbformat_minor": 0,
  "metadata": {
    "colab": {
      "provenance": [],
      "authorship_tag": "ABX9TyNQBSe6sk3JVh5mQM0Ig783",
      "include_colab_link": true
    },
    "kernelspec": {
      "name": "python3",
      "display_name": "Python 3"
    },
    "language_info": {
      "name": "python"
    }
  },
  "cells": [
    {
      "cell_type": "markdown",
      "metadata": {
        "id": "view-in-github",
        "colab_type": "text"
      },
      "source": [
        "<a href=\"https://colab.research.google.com/github/LAGISHETTYNANDITHA/hand-written-digits/blob/main/irs_lab_1.ipynb\" target=\"_parent\"><img src=\"https://colab.research.google.com/assets/colab-badge.svg\" alt=\"Open In Colab\"/></a>"
      ]
    },
    {
      "cell_type": "markdown",
      "source": [
        "Give simple  python code to perform\n",
        "Import a sample dataset or text file.\n",
        "•    Perform operations such as:\n",
        "\n",
        "o    Lowercasing text.\n",
        "o    Removing punctuation.\n",
        "o    Eliminating stopwords.\n",
        "o    Tokenizing sentences and words.***bold text***"
      ],
      "metadata": {
        "id": "fjWOKEtwJjUN"
      }
    },
    {
      "cell_type": "code",
      "source": [
        "import nltk\n",
        "import string\n",
        "from nltk.corpus import stopwords\n",
        "from nltk.tokenize import word_tokenize, sent_tokenize\n",
        "nltk.download('punkt')\n",
        "nltk.download('stopwords')\n",
        "nltk.download('punkt_tab')\n",
        "sample_text =\"The AI-Powered Code Review Assistant(AI-CRA) is an advanced tool designed to enhance the code review process by integrating Artificial intelligence with traditional review methods.It automates the detection of code issues, suggests improvements and ensures adherence to coding standards.By levering Machine learning and Natural Language preprocessing, AI -CRA helps developers write cleaner, more collaborative review process.\"\n",
        "lower_text = sample_text.lower()\n",
        "\n",
        "text_no_punct = lower_text.translate(str.maketrans('', '', string.punctuation))\n",
        "\n",
        "words = word_tokenize(text_no_punct)\n",
        "\n",
        "stop_words = set(stopwords.words('english'))\n",
        "filtered_words = [word for word in words if word not in stop_words]\n",
        "\n",
        "print(\"Original Text:\\n\", sample_text)\n",
        "print(\"\\nLowercased Text:\\n\", lower_text)\n",
        "print(\"\\nText without Punctuation:\\n\", text_no_punct)\n",
        "print(\"\\nTokenized Words:\\n\", words)\n",
        "print(\"\\nFiltered Words (without Stopwords):\\n\", filtered_words)\n"
      ],
      "metadata": {
        "colab": {
          "base_uri": "https://localhost:8080/"
        },
        "id": "JobBPDR6F69Q",
        "outputId": "b4e2f9b4-edc3-4e0b-bcd9-075c3912538e"
      },
      "execution_count": 4,
      "outputs": [
        {
          "output_type": "stream",
          "name": "stdout",
          "text": [
            "Original Text:\n",
            " The AI-Powered Code Review Assistant(AI-CRA) is an advanced tool designed to enhance the code review process by integrating Artificial intelligence with traditional review methods.It automates the detection of code issues, suggests improvements and ensures adherence to coding standards.By levering Machine learning and Natural Language preprocessing, AI -CRA helps developers write cleaner, more collaborative review process.\n",
            "\n",
            "Lowercased Text:\n",
            " the ai-powered code review assistant(ai-cra) is an advanced tool designed to enhance the code review process by integrating artificial intelligence with traditional review methods.it automates the detection of code issues, suggests improvements and ensures adherence to coding standards.by levering machine learning and natural language preprocessing, ai -cra helps developers write cleaner, more collaborative review process.\n",
            "\n",
            "Text without Punctuation:\n",
            " the aipowered code review assistantaicra is an advanced tool designed to enhance the code review process by integrating artificial intelligence with traditional review methodsit automates the detection of code issues suggests improvements and ensures adherence to coding standardsby levering machine learning and natural language preprocessing ai cra helps developers write cleaner more collaborative review process\n",
            "\n",
            "Tokenized Words:\n",
            " ['the', 'aipowered', 'code', 'review', 'assistantaicra', 'is', 'an', 'advanced', 'tool', 'designed', 'to', 'enhance', 'the', 'code', 'review', 'process', 'by', 'integrating', 'artificial', 'intelligence', 'with', 'traditional', 'review', 'methodsit', 'automates', 'the', 'detection', 'of', 'code', 'issues', 'suggests', 'improvements', 'and', 'ensures', 'adherence', 'to', 'coding', 'standardsby', 'levering', 'machine', 'learning', 'and', 'natural', 'language', 'preprocessing', 'ai', 'cra', 'helps', 'developers', 'write', 'cleaner', 'more', 'collaborative', 'review', 'process']\n",
            "\n",
            "Filtered Words (without Stopwords):\n",
            " ['aipowered', 'code', 'review', 'assistantaicra', 'advanced', 'tool', 'designed', 'enhance', 'code', 'review', 'process', 'integrating', 'artificial', 'intelligence', 'traditional', 'review', 'methodsit', 'automates', 'detection', 'code', 'issues', 'suggests', 'improvements', 'ensures', 'adherence', 'coding', 'standardsby', 'levering', 'machine', 'learning', 'natural', 'language', 'preprocessing', 'ai', 'cra', 'helps', 'developers', 'write', 'cleaner', 'collaborative', 'review', 'process']\n"
          ]
        },
        {
          "output_type": "stream",
          "name": "stderr",
          "text": [
            "[nltk_data] Downloading package punkt to /root/nltk_data...\n",
            "[nltk_data]   Package punkt is already up-to-date!\n",
            "[nltk_data] Downloading package stopwords to /root/nltk_data...\n",
            "[nltk_data]   Package stopwords is already up-to-date!\n",
            "[nltk_data] Downloading package punkt_tab to /root/nltk_data...\n",
            "[nltk_data]   Package punkt_tab is already up-to-date!\n"
          ]
        }
      ]
    }
  ]
}